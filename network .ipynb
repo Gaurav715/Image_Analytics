{
 "cells": [
  {
   "cell_type": "code",
   "execution_count": 1,
   "metadata": {},
   "outputs": [
    {
     "name": "stderr",
     "output_type": "stream",
     "text": [
      "D:\\anaconda\\lib\\site-packages\\tensorflow\\python\\framework\\dtypes.py:526: FutureWarning: Passing (type, 1) or '1type' as a synonym of type is deprecated; in a future version of numpy, it will be understood as (type, (1,)) / '(1,)type'.\n",
      "  _np_qint8 = np.dtype([(\"qint8\", np.int8, 1)])\n",
      "D:\\anaconda\\lib\\site-packages\\tensorflow\\python\\framework\\dtypes.py:527: FutureWarning: Passing (type, 1) or '1type' as a synonym of type is deprecated; in a future version of numpy, it will be understood as (type, (1,)) / '(1,)type'.\n",
      "  _np_quint8 = np.dtype([(\"quint8\", np.uint8, 1)])\n",
      "D:\\anaconda\\lib\\site-packages\\tensorflow\\python\\framework\\dtypes.py:528: FutureWarning: Passing (type, 1) or '1type' as a synonym of type is deprecated; in a future version of numpy, it will be understood as (type, (1,)) / '(1,)type'.\n",
      "  _np_qint16 = np.dtype([(\"qint16\", np.int16, 1)])\n",
      "D:\\anaconda\\lib\\site-packages\\tensorflow\\python\\framework\\dtypes.py:529: FutureWarning: Passing (type, 1) or '1type' as a synonym of type is deprecated; in a future version of numpy, it will be understood as (type, (1,)) / '(1,)type'.\n",
      "  _np_quint16 = np.dtype([(\"quint16\", np.uint16, 1)])\n",
      "D:\\anaconda\\lib\\site-packages\\tensorflow\\python\\framework\\dtypes.py:530: FutureWarning: Passing (type, 1) or '1type' as a synonym of type is deprecated; in a future version of numpy, it will be understood as (type, (1,)) / '(1,)type'.\n",
      "  _np_qint32 = np.dtype([(\"qint32\", np.int32, 1)])\n",
      "D:\\anaconda\\lib\\site-packages\\tensorflow\\python\\framework\\dtypes.py:535: FutureWarning: Passing (type, 1) or '1type' as a synonym of type is deprecated; in a future version of numpy, it will be understood as (type, (1,)) / '(1,)type'.\n",
      "  np_resource = np.dtype([(\"resource\", np.ubyte, 1)])\n"
     ]
    }
   ],
   "source": [
    "import backbone\n",
    "import tensorflow as tf\n",
    "import cv2\n",
    "import numpy as np"
   ]
  },
  {
   "cell_type": "code",
   "execution_count": 2,
   "metadata": {},
   "outputs": [],
   "source": [
    "class model:\n",
    "    def __init__(self):\n",
    "        detection_graph, self.category_index = backbone.set_model(\n",
    "            \"ssd_mobilenet_v1_coco_2018_01_28\", \"mscoco_label_map.pbtxt\"\n",
    "        )\n",
    "        self.sess = tf.InteractiveSession(graph=detection_graph)\n",
    "        self.image_tensor = detection_graph.get_tensor_by_name(\"image_tensor:0\")\n",
    "        self.detection_boxes = detection_graph.get_tensor_by_name(\"detection_boxes:0\")\n",
    "        self.detection_scores = detection_graph.get_tensor_by_name(\"detection_scores:0\")\n",
    "        self.detection_classes = detection_graph.get_tensor_by_name(\n",
    "            \"detection_classes:0\"\n",
    "        )\n",
    "        self.num_detections = detection_graph.get_tensor_by_name(\"num_detections:0\")\n",
    "        def get_category_index(self):\n",
    "            return self.category_index\n",
    "        def detect_pedestrians(self, frame):\n",
    "            input_frame = frame\n",
    "        image_np_expanded = np.expand_dims(input_frame, axis=0)\n",
    "        (boxes, scores, classes, num) = self.sess.run(\n",
    "            [\n",
    "                self.detection_boxes,\n",
    "                self.detection_scores,\n",
    "                self.detection_classes,\n",
    "                self.num_detections,\n",
    "            ],\n",
    "            feed_dict={self.image_tensor: image_np_expanded},\n",
    "        )\n",
    "        \n",
    "\n",
    "        classes = np.squeeze(classes).astype(np.int32)\n",
    "        boxes = np.squeeze(boxes)\n",
    "        scores = np.squeeze(scores)\n",
    "        pedestrian_score_threshold = 0.35\n",
    "        pedestrian_boxes = []\n",
    "        total_pedestrians = 0\n",
    "        for i in range(int(num[0])):\n",
    "            if classes[i] in self.category_index.keys():\n",
    "                class_name = self.category_index[classes[i]][\"name\"]\n",
    "                # print(class_name)\n",
    "                if class_name == \"person\" and scores[i] > pedestrian_score_threshold:\n",
    "                    total_pedestrians += 1\n",
    "                    score_pedestrian = scores[i]\n",
    "                    pedestrian_boxes.append(boxes[i])\n",
    "\n",
    "        return pedestrian_boxes, total_pedestrians\n",
    "\n",
    "            \n",
    "        "
   ]
  },
  {
   "cell_type": "code",
   "execution_count": null,
   "metadata": {},
   "outputs": [],
   "source": []
  },
  {
   "cell_type": "code",
   "execution_count": null,
   "metadata": {},
   "outputs": [],
   "source": []
  }
 ],
 "metadata": {
  "kernelspec": {
   "display_name": "Python 3",
   "language": "python",
   "name": "python3"
  },
  "language_info": {
   "codemirror_mode": {
    "name": "ipython",
    "version": 3
   },
   "file_extension": ".py",
   "mimetype": "text/x-python",
   "name": "python",
   "nbconvert_exporter": "python",
   "pygments_lexer": "ipython3",
   "version": "3.7.6"
  }
 },
 "nbformat": 4,
 "nbformat_minor": 4
}
